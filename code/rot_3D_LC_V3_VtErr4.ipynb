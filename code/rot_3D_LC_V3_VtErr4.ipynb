{
 "cells": [
  {
   "cell_type": "code",
   "execution_count": 1,
   "metadata": {},
   "outputs": [],
   "source": [
    "import sys\n",
    "# the mock-0.3.1 dir contains testcase.py, testutils.py & mock.py\n",
    "sys.path.append('/Users/htian/Documents/projects/ploth/')\n",
    "import ploth as pth\n",
    "# from testcase import TestCase\n",
    "# from testutils import RunTests\n",
    "# from mock import Mock, sentinel, patch"
   ]
  },
  {
   "cell_type": "code",
   "execution_count": 2,
   "metadata": {},
   "outputs": [],
   "source": [
    "%matplotlib inline\n",
    "# common functions used in the project of VR-R in GAC direction\n",
    "import numpy as np\n",
    "#import scipy.linalg as splin\n",
    "import numpy.linalg as nl\n",
    "import matplotlib.pyplot as plt\n",
    "import matplotlib\n",
    "matplotlib.rc('xtick',labelsize=20)\n",
    "matplotlib.rc('ytick',labelsize=20)\n",
    "font = {'size' : 20}\n",
    "matplotlib.rc('font', **font)\n",
    "from matplotlib import cm\n",
    "from matplotlib.colors import Normalize\n",
    "from scipy.optimize import curve_fit\n",
    "import scipy.stats as stats\n",
    "import scipy.special as special\n",
    "import astropy.io.fits as fits\n",
    "import emcee\n",
    "import corner\n",
    "import time\n",
    "import galpy.util.bovy_coords as gub\n",
    "# f = open('fevrvtvz.dat')\n",
    "# VT = f.readlines()\n",
    "# f.close()"
   ]
  },
  {
   "cell_type": "code",
   "execution_count": 3,
   "metadata": {},
   "outputs": [],
   "source": [
    "def lnprob_gauss2(x,y):\n",
    "    #n = np.float(len(y))\n",
    "    f1 = x[0]\n",
    "    mu1 = x[1]\n",
    "    sig1 = x[2]\n",
    "    mu2 = x[3]\n",
    "    sig2 = x[4]\n",
    "    if np.isinf(f1) or np.isinf(mu1) or np.isinf(sig1) or\\\n",
    "                np.isinf(mu2) or np.isinf(sig2) or\\\n",
    "                f1<0 or f1>1 or sig1<0 or sig2<0 or\\\n",
    "                sig1>200 or sig2>200 or\\\n",
    "                mu1>100 or mu1<-50 or mu2>300 or mu2<100:\n",
    "        return -1e100\n",
    "    g1 = f1*stats.norm.pdf(y,mu1,sig1)# np.exp(-(y-mu1)**2/(2*sig1**2))/(np.sqrt(2*np.pi)*sig1)\n",
    "    g2 = (1-f1)*stats.norm.pdf(y,mu2,sig2)#np.exp(-(y-mu2)**2/(2*sig2**2))/(np.sqrt(2*np.pi)*sig2)\n",
    "    g = g1+g2\n",
    "    #print g\n",
    "    ind_g = (np.isinf(g)==False) & (np.isnan(g)==False) & (g>0)\n",
    "    logg = np.log(g[ind_g])\n",
    "    ind_lg = logg>-1e100\n",
    "    return np.sum(logg[ind_lg])\n",
    "\n",
    "def gauss2_model(y,p0,N, func, nwalkers):\n",
    "    # MCMC sampling\n",
    "    ndim = p0.shape[1]\n",
    "#     print(ndim)\n",
    "    sampler = emcee.EnsembleSampler(nwalkers, \\\n",
    "            ndim, func, args=[y])\n",
    "    N_burn_in = 2000\n",
    "    \n",
    "    pos, prob, state = sampler.run_mcmc(p0, N_burn_in)\n",
    "    sampler.reset()\n",
    "    \n",
    "    sampler.run_mcmc(pos, N)\n",
    "    \n",
    "    samples = sampler.chain[:, N_burn_in:, :].reshape((-1, ndim))\n",
    "    #corner.corner(samples)\n",
    "    popt = np.median(samples, axis=0)\n",
    "    pcov = np.zeros((ndim,ndim))\n",
    "    for i in range(ndim):\n",
    "        for j in range(ndim):\n",
    "            pcov[i,j] = (np.sum((samples[:,i]-popt[i])*\\\n",
    "                (samples[:,j]-popt[j])))/len(samples)\n",
    "    return popt, pcov, samples\n",
    "\n",
    "def lnprob_gauss3(x,y):\n",
    "    #n = np.float(len(y))\n",
    "    f1 = x[0]\n",
    "    f2 = x[1]\n",
    "    mu1 = x[2]\n",
    "    sig1 = x[3]\n",
    "    mu2 = x[4]\n",
    "    sig2 = x[5]\n",
    "    mu3 = x[6]\n",
    "    sig3 = x[7]\n",
    "    \n",
    "    if np.isinf(f1) or np.isinf(f2) or np.isinf(mu1) or np.isinf(sig1) or\\\n",
    "                np.isinf(mu2) or np.isinf(sig2) or np.isinf(mu3) or np.isinf(sig3) or\\\n",
    "                f1<0 or f1>1 or f2<0 or f2>1 or (f1+f2)<0 or (f1+f2)>1 or\\\n",
    "                sig1<0 or sig2<0 or sig3<0 or\\\n",
    "                sig1>200 or sig2>200 or sig3>200 or\\\n",
    "                mu1>100 or mu1<-100 or mu3>0 or mu3<-200 or mu2>300 or mu2<100:\n",
    "        return -1e100\n",
    "    g1 = f1*stats.norm.pdf(y,mu1,sig1)# np.exp(-(y-mu1)**2/(2*sig1**2))/(np.sqrt(2*np.pi)*sig1)\n",
    "    g2 = f2*stats.norm.pdf(y,mu2,sig2)#np.exp(-(y-mu2)**2/(2*sig2**2))/(np.sqrt(2*np.pi)*sig2)\n",
    "    g3 = (1-f1-f2)*stats.norm.pdf(y,mu3,sig3)#np.exp(-(y-mu2)**2/(2*sig2**2))/(np.sqrt(2*np.pi)*sig2)\n",
    "    g = g1+g2+g3\n",
    "    #print g\n",
    "    ind_g = (np.isinf(g)==False) & (np.isnan(g)==False) & (g>0)\n",
    "    logg = np.log(g[ind_g])\n",
    "    ind_lg = logg>-1e100\n",
    "    return np.sum(logg[ind_lg])"
   ]
  },
  {
   "cell_type": "code",
   "execution_count": 4,
   "metadata": {},
   "outputs": [],
   "source": [
    "dpath = \"/Users/htian/Documents/work/data/rothalo/\"\n",
    "ppath = \"/Users/htian/Documents/work/plots/rothalo/\"\n",
    "fn = \"dr5GaiaDR2_v1_all_photos_EWs_dist_halo_feh_le_m1_TRUEKGIANT_NODUPLICATED\"\n",
    "# fn = \"dr5GaiaDR2_v1_all_photos_EWs_dist_halo_feh_le_m1_TRUEKGIANT_NODUPLICATED\"\n",
    "d_fmt = \".fits\"\n",
    "U_sun, V_sun, W_sun = 11.1, 12.24, 7.25\n",
    "X_sun = 8.3\n",
    "V_LSR = 232#232#218#232\n",
    "fn_tag = \"r2\"#\"vlsr218_\"#\"dGaia_\" #\"vlsr218_\"  240 Reid et al 2014 "
   ]
  },
  {
   "cell_type": "code",
   "execution_count": 5,
   "metadata": {},
   "outputs": [
    {
     "name": "stdout",
     "output_type": "stream",
     "text": [
      "6660\n",
      "3517\n",
      "3054\n",
      "3827\n"
     ]
    }
   ],
   "source": [
    "DtG = fits.open(dpath+fn+d_fmt)\n",
    "dataG = DtG[1].data\n",
    "\n",
    "ra_Ga, dec_Ga = dataG[\"ra_epoch2000_1\"],dataG[\"dec_epoch2000_1\"]\n",
    "br_rpa, MagGa, a_ga = dataG[\"bp_rp_1\"],dataG[\"phot_g_mean_mag_1\"],dataG[\"a_g_val_1\"]\n",
    "rvGa, rvGea = dataG[\"radial_velocity_1\"],dataG[\"radial_velocity_error_1\"]\n",
    "rvLa, rvLea = dataG[\"rv_1\"],dataG[\"rv_err_1\"]\n",
    "feha = dataG[\"feh_1\"]\n",
    "pmra_Gae, pmdec_Gae = dataG[\"pmra_error_1\"],dataG[\"pmdec_error_1\"]\n",
    "pmra_Ga, pmdec_Ga = dataG[\"pmra_1\"],dataG[\"pmdec_1\"]\n",
    "feha,fehea = dataG[\"feh_1\"],dataG[\"feh_err_1\"]\n",
    "dista, dista_15, dista_85,dista_len = dataG[\"r_est_1\"],dataG[\"r_lo_1\"],dataG[\"r_hi_1\"],dataG[\"r_len_1\"]\n",
    "distae = 0.5*(dista_85 - dista_15)\n",
    "prlxa, prlxae = dataG[\"parallax_1\"],dataG[\"parallax_error_1\"]\n",
    "distLa,distLa_15,distLa_85 = dataG[\"DistK50_RJCE_1\"],dataG[\"DistK15_RJCE_1\"],dataG[\"DistK85_RJCE_1\"]\n",
    "snrga = dataG[\"snrg_1\"]\n",
    "# --------------------------------------------------------------------------------------------------------\n",
    "ind_halo = (pmra_Ga ==pmra_Ga) & ( pmdec_Ga ==pmdec_Ga) &\\\n",
    "(rvGa==rvGa) & (rvGea==rvGea) & (dista==dista) #& (snrga>10)\n",
    "ra_Gt,dec_Gt = ra_Ga[ind_halo],dec_Ga[ind_halo]\n",
    "pmra_Gt,pmdec_Gt = pmra_Ga[ind_halo],pmdec_Ga[ind_halo]\n",
    "pmra_eGt,pmdec_eGt = pmra_Gae[ind_halo],pmdec_Gae[ind_halo]\n",
    "rvGt, rvGet = rvGa[ind_halo], rvGea[ind_halo]\n",
    "rvLt, rvLet = rvLa[ind_halo], rvLea[ind_halo]\n",
    "feht,fehet = feha[ind_halo],fehea[ind_halo]\n",
    "distt, distet = dista[ind_halo]/1000, distae[ind_halo]/1000\n",
    "# distt, distet = 1/prlxa[ind_halo], prlxae[ind_halo]/(prlxa[ind_halo]**2)\n",
    "prlxt, prlxet = prlxa[ind_halo], prlxae[ind_halo]\n",
    "distLt,distL_15t,distL_85t = distLa[ind_halo],distLa_15[ind_halo],distLa_85[ind_halo]\n",
    "print(len(feht))\n",
    "#--------------------------------------------------------\n",
    "ind_halo0 =  (distet/distt<0.2) & (distt<4) \n",
    "ra_G,dec_G = ra_Gt[ind_halo0],dec_Gt[ind_halo0]\n",
    "pmra_G,pmdec_G = pmra_Gt[ind_halo0],pmdec_Gt[ind_halo0]\n",
    "pmra_eG,pmdec_eG = pmra_eGt[ind_halo0],pmdec_eGt[ind_halo0]\n",
    "rvG, rvGe = rvGt[ind_halo0], rvGet[ind_halo0]\n",
    "rvL, rvLe = rvLt[ind_halo0], rvLet[ind_halo0]\n",
    "feh,fehe = feht[ind_halo0],fehet[ind_halo0]\n",
    "dist, diste = distt[ind_halo0], distet[ind_halo0]\n",
    "prlx, prlxe = prlxt[ind_halo0], prlxet[ind_halo0]\n",
    "distL,distL_15,distL_85 = distLt[ind_halo0],distL_15t[ind_halo0],distL_85t[ind_halo0]\n",
    "print(len(feh[(pmra_eG<0.1) & (pmdec_eG<0.1)]))\n",
    "print(len(feh[rvGe<2]))\n",
    "print(len(feh))"
   ]
  },
  {
   "cell_type": "code",
   "execution_count": 6,
   "metadata": {},
   "outputs": [],
   "source": [
    "llbb = gub.radec_to_lb(ra_G,dec_G,degree=True)\n",
    "# centered at LSR, with galactic center at (X_sun,0,0)kpc\n",
    "xyz = gub.lbd_to_XYZ(llbb[:,0],llbb[:,1],dist,degree=True)  \n",
    "pmllbb = gub.pmrapmdec_to_pmllpmbb(pmra_G,pmdec_G,ra_G,dec_G,degree=True)\n",
    "vxvyvz = gub.vrpmllpmbb_to_vxvyvz(rvG,pmllbb[:,0],pmllbb[:,1],llbb[:,0],llbb[:,1],\\\n",
    "                                  dist,degree=True)\n",
    "# vrvtvz0 = gub.vxvyvz_to_galcencyl(vxvyvz[:,0],vxvyvz[:,1],vxvyvz[:,2],xyz[:,0],\\\n",
    "#                                   X_sun-xyz[:,1],xyz[:,2],[0,220,0])\n",
    "# here the sun's uvw in GC frame, XYZ in gc frame, UVW in LSR frame\n",
    "vrvtvz = gub.vxvyvz_to_galcencyl(vxvyvz[:,0],vxvyvz[:,1],vxvyvz[:,2],\\\n",
    "                                 X_sun-xyz[:,0],xyz[:,1],xyz[:,2],[U_sun*(-1),V_LSR+V_sun,W_sun])  "
   ]
  },
  {
   "cell_type": "code",
   "execution_count": 7,
   "metadata": {},
   "outputs": [],
   "source": [
    "nwalkers = 50\n",
    "ndim = 8\n",
    "p0=np.zeros((nwalkers,ndim))\n",
    "p0[:,0] = np.random.rand(nwalkers)*0.2+0.5\n",
    "p0[:,1] = np.random.rand(nwalkers)*0.2\n",
    "p0[:,2] = np.random.rand(nwalkers)*100-50\n",
    "p0[:,3] = np.random.rand(nwalkers)*40+60\n",
    "p0[:,4] = np.random.rand(nwalkers)*60+140\n",
    "p0[:,5] = np.random.rand(nwalkers)*50+20\n",
    "p0[:,6] = np.random.rand(nwalkers)*60-80\n",
    "p0[:,7] = np.random.rand(nwalkers)*200\n",
    "start = time.time()\n"
   ]
  },
  {
   "cell_type": "code",
   "execution_count": 8,
   "metadata": {},
   "outputs": [
    {
     "name": "stdout",
     "output_type": "stream",
     "text": [
      "0 0.00017523765563964844\n",
      "20 3333.8798689842224\n",
      "40 6640.069367170334\n",
      "60 9959.561291217804\n",
      "80 13311.772409200668\n",
      "100 16635.650900125504\n",
      "120 19962.74926519394\n",
      "140 23298.654885292053\n",
      "160 26602.442634105682\n",
      "180 29921.55466222763\n",
      "33234.703238248825\n"
     ]
    }
   ],
   "source": [
    "sn = 200    # times for MC \n",
    "rcd_mc = np.zeros((sn,8))\n",
    "rcd_err = np.zeros((sn,8))\n",
    "start = time.time()\n",
    "for i in range(0,sn):\n",
    "    if ((i % 20) == 0):\n",
    "        print(i,time.time()-start) \n",
    "    s_pmra = np.random.normal(pmra_G,pmra_eG)\n",
    "    s_pmdec = np.random.normal(pmdec_G,pmdec_eG)\n",
    "    s_rv = np.random.normal(rvG,rvGe)\n",
    "    s_dist = np.random.normal(dist,diste)\n",
    "    \n",
    "    s_xyz = gub.lbd_to_XYZ(llbb[:,0],llbb[:,1],s_dist,degree=True)  \n",
    "    s_pmllbb = gub.pmrapmdec_to_pmllpmbb(s_pmra,s_pmdec,ra_G,dec_G,degree=True)\n",
    "    s_vxvyvz = gub.vrpmllpmbb_to_vxvyvz(s_rv,s_pmllbb[:,0],s_pmllbb[:,1],llbb[:,0],llbb[:,1],\\\n",
    "                                      s_dist,degree=True)\n",
    "    # here the sun's uvw in GC frame, XYZ in gc frame, UVW in LSR frame\n",
    "    s_vrvtvz = gub.vxvyvz_to_galcencyl(s_vxvyvz[:,0],s_vxvyvz[:,1],s_vxvyvz[:,2],\\\n",
    "                                     X_sun-s_xyz[:,0],s_xyz[:,1],s_xyz[:,2],[U_sun*(-1),V_LSR+V_sun,W_sun])\n",
    "#     plt.hist(s_vrvtvz[:,1],100)\n",
    "#     plt.show()\n",
    "    s_vt = s_vrvtvz[:,1]\n",
    "    Mpopt3,Mpcov3, samples3 = gauss2_model(s_vt, p0, 5000, lnprob_gauss3, nwalkers)\n",
    "    rcd_mc[i,:] = Mpopt3\n",
    "    rcd_err[i,:] = np.sqrt(np.diag(Mpcov3))\n",
    "print(time.time()-start)\n",
    "np.savetxt(dpath+'rcd_mc4.dat',rcd_mc,delimiter=' ',fmt='%f')\n",
    "np.savetxt(dpath+'rcd_err4.dat',rcd_err,delimiter=' ',fmt='%f')"
   ]
  },
  {
   "cell_type": "code",
   "execution_count": 9,
   "metadata": {},
   "outputs": [],
   "source": [
    "# sm = np.random.uniform(0,1,10)\n",
    "# ss = np.random.uniform(0,1,10)*0+1\n",
    "# nn = np.zeros_like(ss)+1000\n",
    "# sv = np.random.normal(sm,ss)\n",
    "# print(sm)\n",
    "# print('++++++++++++++++++++++++')\n",
    "# print(sv)"
   ]
  },
  {
   "cell_type": "code",
   "execution_count": 10,
   "metadata": {},
   "outputs": [
    {
     "name": "stdout",
     "output_type": "stream",
     "text": [
      "[  0.72345244   0.23000114  27.91220518  76.61435822 180.17307534\n",
      "  46.67313984 -87.34092085 119.78493165]\n"
     ]
    }
   ],
   "source": [
    "print(Mpopt3)"
   ]
  },
  {
   "cell_type": "code",
   "execution_count": null,
   "metadata": {},
   "outputs": [],
   "source": []
  },
  {
   "cell_type": "code",
   "execution_count": null,
   "metadata": {},
   "outputs": [],
   "source": []
  },
  {
   "cell_type": "code",
   "execution_count": null,
   "metadata": {},
   "outputs": [],
   "source": []
  },
  {
   "cell_type": "code",
   "execution_count": null,
   "metadata": {},
   "outputs": [],
   "source": []
  },
  {
   "cell_type": "code",
   "execution_count": null,
   "metadata": {},
   "outputs": [],
   "source": []
  },
  {
   "cell_type": "code",
   "execution_count": null,
   "metadata": {},
   "outputs": [],
   "source": []
  },
  {
   "cell_type": "code",
   "execution_count": null,
   "metadata": {},
   "outputs": [],
   "source": []
  }
 ],
 "metadata": {
  "kernelspec": {
   "display_name": "Python 3",
   "language": "python",
   "name": "python3"
  },
  "language_info": {
   "codemirror_mode": {
    "name": "ipython",
    "version": 3
   },
   "file_extension": ".py",
   "mimetype": "text/x-python",
   "name": "python",
   "nbconvert_exporter": "python",
   "pygments_lexer": "ipython3",
   "version": "3.6.5"
  }
 },
 "nbformat": 4,
 "nbformat_minor": 2
}
